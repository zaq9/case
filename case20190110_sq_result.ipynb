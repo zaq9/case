{
  "nbformat": 4,
  "nbformat_minor": 0,
  "metadata": {
    "colab": {
      "name": "case20190110_sq_result.ipynb",
      "version": "0.3.2",
      "provenance": [],
      "include_colab_link": true
    },
    "kernelspec": {
      "name": "python3",
      "display_name": "Python 3"
    }
  },
  "cells": [
    {
      "cell_type": "markdown",
      "metadata": {
        "id": "view-in-github",
        "colab_type": "text"
      },
      "source": [
        "<a href=\"https://colab.research.google.com/github/zaq9/case/blob/master/case20190110_sq_result.ipynb\" target=\"_parent\"><img src=\"https://colab.research.google.com/assets/colab-badge.svg\" alt=\"Open In Colab\"/></a>"
      ]
    },
    {
      "metadata": {
        "id": "9YsA1qcCW3Jh",
        "colab_type": "code",
        "colab": {
          "base_uri": "https://localhost:8080/",
          "height": 521
        },
        "outputId": "e42337b3-bb9a-4d87-dae7-a5ea0c2b06a7"
      },
      "cell_type": "code",
      "source": [
        "import pandas as pd\n",
        "\n",
        "#最終清算値市場データ取得（１月限）　\n",
        "df = pd.read_csv(\n",
        "    'https://raw.githubusercontent.com/zaq9/case/master/case20190110/data20190110.csv',index_col=0)\n",
        "\n",
        "df"
      ],
      "execution_count": 1,
      "outputs": [
        {
          "output_type": "execute_result",
          "data": {
            "text/html": [
              "<div>\n",
              "<style scoped>\n",
              "    .dataframe tbody tr th:only-of-type {\n",
              "        vertical-align: middle;\n",
              "    }\n",
              "\n",
              "    .dataframe tbody tr th {\n",
              "        vertical-align: top;\n",
              "    }\n",
              "\n",
              "    .dataframe thead th {\n",
              "        text-align: right;\n",
              "    }\n",
              "</style>\n",
              "<table border=\"1\" class=\"dataframe\">\n",
              "  <thead>\n",
              "    <tr style=\"text-align: right;\">\n",
              "      <th></th>\n",
              "      <th>PRICE</th>\n",
              "    </tr>\n",
              "  </thead>\n",
              "  <tbody>\n",
              "    <tr>\n",
              "      <th>C20000</th>\n",
              "      <td>180</td>\n",
              "    </tr>\n",
              "    <tr>\n",
              "      <th>C20125</th>\n",
              "      <td>100</td>\n",
              "    </tr>\n",
              "    <tr>\n",
              "      <th>C20250</th>\n",
              "      <td>48</td>\n",
              "    </tr>\n",
              "    <tr>\n",
              "      <th>C20375</th>\n",
              "      <td>19</td>\n",
              "    </tr>\n",
              "    <tr>\n",
              "      <th>C20500</th>\n",
              "      <td>6</td>\n",
              "    </tr>\n",
              "    <tr>\n",
              "      <th>C20625</th>\n",
              "      <td>3</td>\n",
              "    </tr>\n",
              "    <tr>\n",
              "      <th>C20750</th>\n",
              "      <td>1</td>\n",
              "    </tr>\n",
              "    <tr>\n",
              "      <th>P19500</th>\n",
              "      <td>4</td>\n",
              "    </tr>\n",
              "    <tr>\n",
              "      <th>P19625</th>\n",
              "      <td>7</td>\n",
              "    </tr>\n",
              "    <tr>\n",
              "      <th>P19750</th>\n",
              "      <td>10</td>\n",
              "    </tr>\n",
              "    <tr>\n",
              "      <th>P19875</th>\n",
              "      <td>23</td>\n",
              "    </tr>\n",
              "    <tr>\n",
              "      <th>P20000</th>\n",
              "      <td>52</td>\n",
              "    </tr>\n",
              "    <tr>\n",
              "      <th>P20125</th>\n",
              "      <td>94</td>\n",
              "    </tr>\n",
              "    <tr>\n",
              "      <th>P20250</th>\n",
              "      <td>170</td>\n",
              "    </tr>\n",
              "    <tr>\n",
              "      <th>P20375</th>\n",
              "      <td>265</td>\n",
              "    </tr>\n",
              "    <tr>\n",
              "      <th>P20500</th>\n",
              "      <td>375</td>\n",
              "    </tr>\n",
              "  </tbody>\n",
              "</table>\n",
              "</div>"
            ],
            "text/plain": [
              "        PRICE\n",
              "C20000    180\n",
              "C20125    100\n",
              "C20250     48\n",
              "C20375     19\n",
              "C20500      6\n",
              "C20625      3\n",
              "C20750      1\n",
              "P19500      4\n",
              "P19625      7\n",
              "P19750     10\n",
              "P19875     23\n",
              "P20000     52\n",
              "P20125     94\n",
              "P20250    170\n",
              "P20375    265\n",
              "P20500    375"
            ]
          },
          "metadata": {
            "tags": []
          },
          "execution_count": 1
        }
      ]
    },
    {
      "metadata": {
        "id": "XhybN75lXftF",
        "colab_type": "code",
        "colab": {
          "base_uri": "https://localhost:8080/",
          "height": 193
        },
        "outputId": "b5f58e4b-4bc5-41cc-bbea-824e29d1c5db"
      },
      "cell_type": "code",
      "source": [
        "#colabo 用インストール\n",
        "!pip install pulp"
      ],
      "execution_count": 2,
      "outputs": [
        {
          "output_type": "stream",
          "text": [
            "Collecting pulp\n",
            "\u001b[?25l  Downloading https://files.pythonhosted.org/packages/91/cd/8ed5d788973f6632cc44d0e95c486646c090c427c90667c901b75e544bc1/PuLP-1.6.9.zip (13.6MB)\n",
            "\u001b[K    100% |████████████████████████████████| 13.6MB 2.5MB/s \n",
            "\u001b[?25hRequirement already satisfied: pyparsing>=2.0.1 in /usr/local/lib/python3.6/dist-packages (from pulp) (2.3.0)\n",
            "Building wheels for collected packages: pulp\n",
            "  Running setup.py bdist_wheel for pulp ... \u001b[?25l-\b \b\\\b \b|\b \b/\b \b-\b \b\\\b \b|\b \bdone\n",
            "\u001b[?25h  Stored in directory: /root/.cache/pip/wheels/3b/f1/f5/f6d0aac56dd154c2593d3fa5e901aa9bc32a51bd8594b4bf8e\n",
            "Successfully built pulp\n",
            "Installing collected packages: pulp\n",
            "Successfully installed pulp-1.6.9\n"
          ],
          "name": "stdout"
        }
      ]
    },
    {
      "metadata": {
        "id": "PJL_KFBkXx1r",
        "colab_type": "code",
        "colab": {}
      },
      "cell_type": "code",
      "source": [
        "import pulp as pu\n",
        "\n",
        "\n",
        "class Payoff():\n",
        "    def __init__(self, name):\n",
        "        self.type = name[0]\n",
        "        self.strike = int(name[1:])\n",
        "    def __call__(self, u):\n",
        "        v = u - self.strike\n",
        "        if(self.type =='C'): \n",
        "            return v if v>0 else 0\n",
        "        else:\n",
        "            return -v if v<0 else 0"
      ],
      "execution_count": 0,
      "outputs": []
    },
    {
      "metadata": {
        "id": "lAl_jANKYC-J",
        "colab_type": "code",
        "colab": {
          "base_uri": "https://localhost:8080/",
          "height": 210
        },
        "outputId": "a49c9226-1442-446d-892f-9344487f3753"
      },
      "cell_type": "code",
      "source": [
        "v_sq = 20290    #　SQ値\n",
        "v_fut = 20125   #　mini先物価格\n",
        "max_cost = 100  # 最大初期コスト\n",
        "maxPayoff = 250 # 最大支払い額\n",
        "max_num = 10    # 最大オプション枚数\n",
        "max_num_fut = 100 #最大mini先物枚数\n",
        "max_sum_sell = 10 #最大売りオプション枚数\n",
        "\n",
        "df[\"buy\"] = df.index.map(lambda x: pu.LpVariable(x, 0, max_num, pu.LpInteger))\n",
        "df[\"sell\"] = df.index.map(lambda x: pu.LpVariable(x+'_s', 0,max_num, pu.LpInteger))\n",
        "df[\"payoff\"] = df.index.map(lambda x: Payoff(x))\n",
        "\n",
        "fut=  pu.LpVariable('fut', -max_num_fut, max_num_fut, pu.LpInteger)\n",
        "\n",
        "def pay(s, objs): return pu.lpSum(pu.lpDot(objs, [p(s) for p in df.payoff]))\n",
        "def v(s): \n",
        "    return pay(s, df['buy']) - pay(\n",
        "        s, df['sell']) +fut*0.1*(s-v_fut) \n",
        "\n",
        "cost = pu.lpSum(pu.lpDot(df['buy'], df['PRICE'])) -pu.lpSum(pu.lpDot(df['sell'], df['PRICE']))\n",
        "m = pu.LpProblem('Max', sense=pu.LpMaximize)\n",
        "m += v(v_sq ) -cost\n",
        "m += cost <= max_cost\n",
        "m += pu.lpSum(df['sell']) <= max_sum_sell\n",
        "# 合計売り枚数\n",
        "\n",
        "for sq in range(18000,23000,125): m += v(sq) >= -maxPayoff\n",
        "    \n",
        "m.solve()\n",
        "df['ans'] = df.buy.map(lambda x: x.value()) - df.sell.map(lambda x: x.value())\n",
        "\n",
        "print(f\"制約条件1：最大初期コスト={max_cost}：最大支払額＝{maxPayoff}\")\n",
        "print(f\"制約条件2：最大売り合計枚数={max_sum_sell:.0f}：最大権利価格別枚数＝{max_num}\")\n",
        "print(f\"制約条件3：最大mini先物枚数={max_num_fut:.0f}：mini先物初期値＝{v_fut}\")\n",
        "\n",
        "print()\n",
        "print(f\"最大収益 ={m.objective.value():.0f}(@SQ={v_sq})：初期コスト={sum(df.ans * df.PRICE):.0f}\")\n",
        "print(f\"mini[{fut.value():.0f}]@{v_fut} >>{v_sq}\" )\n",
        "for x in df.query( ' ans != 0 ').itertuples():\n",
        "    print(f\"{x.Index}[{x.ans:.0f}]@{x.PRICE}  >> {x.payoff(v_sq)}\")"
      ],
      "execution_count": 4,
      "outputs": [
        {
          "output_type": "stream",
          "text": [
            "制約条件1：最大初期コスト=100：最大支払額＝250\n",
            "制約条件2：最大売り合計枚数=10：最大権利価格別枚数＝10\n",
            "制約条件3：最大mini先物枚数=100：mini先物初期値＝20125\n",
            "\n",
            "最大収益 =664(@SQ=20290)：初期コスト=86\n",
            "mini[70]@20125 >>20290\n",
            "C20250[-8]@48  >> 40\n",
            "C20375[-1]@19  >> 0\n",
            "C20750[2]@1  >> 0\n",
            "P20125[8]@94  >> 0\n",
            "P20375[-1]@265  >> 85\n"
          ],
          "name": "stdout"
        }
      ]
    }
  ]
}