{
  "nbformat": 4,
  "nbformat_minor": 0,
  "metadata": {
    "colab": {
      "name": "jan10_sq.ipynb",
      "version": "0.3.2",
      "provenance": [],
      "collapsed_sections": []
    },
    "kernelspec": {
      "name": "python3",
      "display_name": "Python 3"
    }
  },
  "cells": [
    {
      "metadata": {
        "id": "o1hWoDjLRoku",
        "colab_type": "code",
        "colab": {}
      },
      "cell_type": "code",
      "source": [
        "!pip install pulp -q"
      ],
      "execution_count": 0,
      "outputs": []
    },
    {
      "metadata": {
        "id": "IcsUshgzU8Y3",
        "colab_type": "text"
      },
      "cell_type": "markdown",
      "source": [
        "SQ@20250 で利益最大ポジ\n",
        "\n",
        "制約条件\n",
        "*  初期コスト（１０日清算値時点）125以下\n",
        "*  売り枚数１０枚以下\n",
        "*  18000~23000で最大支払い額250\n"
      ]
    },
    {
      "metadata": {
        "id": "78mGCdY1R4BP",
        "colab_type": "code",
        "colab": {
          "base_uri": "https://localhost:8080/",
          "height": 105
        },
        "outputId": "14f338cb-e6da-48a6-e0df-8dbd8409d02a"
      },
      "cell_type": "code",
      "source": [
        "import pulp as pu\n",
        "import pandas as pd\n",
        "\n",
        "df = pd.read_csv('https://raw.githubusercontent.com/zaq9/case/master/case20190110/data20190110.csv',index_col=0)\n",
        "\n",
        "v_sq = 20375\n",
        "\n",
        "class Payoff():\n",
        "    def __init__(self, name):\n",
        "        self.type = name[0]\n",
        "        self.strike = int(name[1:])\n",
        "    def __call__(self, u):\n",
        "        v = u - self.strike\n",
        "        if(self.type =='C'): \n",
        "            return v if v>0 else 0\n",
        "        else:\n",
        "            return -v if v<0 else 0\n",
        "\n",
        "          \n",
        "          \n",
        "df[\"buy\"] = df.index.map(lambda x: pu.LpVariable(x, 0, 20, pu.LpInteger))\n",
        "df[\"sell\"] = df.index.map(lambda x: pu.LpVariable(x+'_s', 0, 10, pu.LpInteger))\n",
        "df[\"payoff\"] = df.index.map(lambda x: Payoff(x))\n",
        "\n",
        "\n",
        "def pay(s, objs): return pu.lpSum(pu.lpDot(objs, [p(s) for p in df.payoff]))\n",
        "def v(s):   return pay(s, df['buy']) - pay(s, df['sell'])\n",
        "\n",
        "cost = pu.lpSum(pu.lpDot(df['buy'], df['PRICE'])) -pu.lpSum(pu.lpDot(df['sell'], df['PRICE']))\n",
        "m = pu.LpProblem('Max', sense=pu.LpMaximize)\n",
        "m += v(v_sq ) -cost\n",
        "m += cost <= 125\n",
        "m += pu.lpSum(df['sell']) <= 10  # 合計売り枚数\n",
        "\n",
        "for sq in range(18000,23000,125): m += v(sq) >= -250 \n",
        "    \n",
        "m.solve()\n",
        "df['ans'] = df.buy.map(lambda x: x.value()) - df.sell.map(lambda x: x.value())\n",
        "print(f\"最大収益 ={m.objective.value():.0f}(@SQ={v_sq}):コスト={sum(df.ans * df.PRICE):.0f}\")\n",
        "\n",
        "for x in df.query( ' ans != 0 ').itertuples():\n",
        "    print(f\"{x.Index}[{x.ans:.0f}]@{x.PRICE} >> {x.payoff(v_sq)}\")\n",
        " "
      ],
      "execution_count": 28,
      "outputs": [
        {
          "output_type": "stream",
          "text": [
            "最大収益 =1035(@SQ=20375):コスト=90\n",
            "C20250[9]@48 >> 125\n",
            "C20375[-9]@19 >> 0\n",
            "P20125[1]@94 >> 0\n",
            "P20375[-1]@265 >> 0\n"
          ],
          "name": "stdout"
        }
      ]
    }
  ]
}