{
  "nbformat": 4,
  "nbformat_minor": 0,
  "metadata": {
    "colab": {
      "name": "sq201901w1.ipynb",
      "version": "0.3.2",
      "provenance": [],
      "collapsed_sections": []
    },
    "kernelspec": {
      "name": "python3",
      "display_name": "Python 3"
    }
  },
  "cells": [
    {
      "metadata": {
        "id": "SkrVfk6FtUka",
        "colab_type": "text"
      },
      "cell_type": "markdown",
      "source": [
        "[Open with Google Colab](https://colab.research.google.com/github/zaq9/case/blob/master/sq201901w1/sq201901w1.ipynb\n",
        "\n",
        "2019年１月w１　最終清算値を使ったシュミレーション\n"
      ]
    },
    {
      "metadata": {
        "id": "p2DUEW4jsfpB",
        "colab_type": "code",
        "colab": {}
      },
      "cell_type": "code",
      "source": [
        "!pip install -q pulp"
      ],
      "execution_count": 0,
      "outputs": []
    },
    {
      "metadata": {
        "id": "W1KeTq4htrne",
        "colab_type": "code",
        "colab": {}
      },
      "cell_type": "code",
      "source": [
        "import pandas as pd\n",
        "import pulp as pu\n",
        "from operator import itemgetter"
      ],
      "execution_count": 0,
      "outputs": []
    },
    {
      "metadata": {
        "id": "YmwFicGct1Qf",
        "colab_type": "code",
        "colab": {}
      },
      "cell_type": "code",
      "source": [
        "fname = 'https://raw.githubusercontent.com/zaq9/case/master/sq201901w1/sq20190104.csv'\n",
        "csv_df = pd.read_csv(fname,index_col=0)"
      ],
      "execution_count": 0,
      "outputs": []
    },
    {
      "metadata": {
        "id": "bcQT6uymur8t",
        "colab_type": "code",
        "colab": {
          "base_uri": "https://localhost:8080/",
          "height": 225
        },
        "outputId": "3917b5c1-062d-47e1-80ee-db8b39508daa"
      },
      "cell_type": "code",
      "source": [
        "csv_df.head(5)"
      ],
      "execution_count": 6,
      "outputs": [
        {
          "output_type": "execute_result",
          "data": {
            "text/html": [
              "<div>\n",
              "<style scoped>\n",
              "    .dataframe tbody tr th:only-of-type {\n",
              "        vertical-align: middle;\n",
              "    }\n",
              "\n",
              "    .dataframe tbody tr th {\n",
              "        vertical-align: top;\n",
              "    }\n",
              "\n",
              "    .dataframe thead th {\n",
              "        text-align: right;\n",
              "    }\n",
              "</style>\n",
              "<table border=\"1\" class=\"dataframe\">\n",
              "  <thead>\n",
              "    <tr style=\"text-align: right;\">\n",
              "      <th></th>\n",
              "      <th>price</th>\n",
              "    </tr>\n",
              "    <tr>\n",
              "      <th>name</th>\n",
              "      <th></th>\n",
              "    </tr>\n",
              "  </thead>\n",
              "  <tbody>\n",
              "    <tr>\n",
              "      <th>C19000</th>\n",
              "      <td>1080</td>\n",
              "    </tr>\n",
              "    <tr>\n",
              "      <th>C19125</th>\n",
              "      <td>945</td>\n",
              "    </tr>\n",
              "    <tr>\n",
              "      <th>C19250</th>\n",
              "      <td>875</td>\n",
              "    </tr>\n",
              "    <tr>\n",
              "      <th>C19375</th>\n",
              "      <td>720</td>\n",
              "    </tr>\n",
              "    <tr>\n",
              "      <th>C19500</th>\n",
              "      <td>630</td>\n",
              "    </tr>\n",
              "  </tbody>\n",
              "</table>\n",
              "</div>"
            ],
            "text/plain": [
              "        price\n",
              "name         \n",
              "C19000   1080\n",
              "C19125    945\n",
              "C19250    875\n",
              "C19375    720\n",
              "C19500    630"
            ]
          },
          "metadata": {
            "tags": []
          },
          "execution_count": 6
        }
      ]
    },
    {
      "metadata": {
        "id": "mmT6tLtru-CL",
        "colab_type": "code",
        "colab": {}
      },
      "cell_type": "code",
      "source": [
        "op_names = csv_df.index\n",
        "\n",
        "#変数定義　ops 買い枚数、ops_n 売り枚数　\n",
        "ops = [pu.LpVariable(s, 0, 50, pu.LpInteger) for s in op_names] \n",
        "ops_n = [pu.LpVariable(s+'_n', 0, 20, pu.LpInteger) for s in op_names]"
      ],
      "execution_count": 0,
      "outputs": []
    },
    {
      "metadata": {
        "id": "KEx8A8lPvhos",
        "colab_type": "code",
        "colab": {}
      },
      "cell_type": "code",
      "source": [
        "class Payoff():\n",
        "    def __init__(self, name):\n",
        "        self.name = name\n",
        "        self.type = name[0]\n",
        "        self.strike = int(name[1:])\n",
        "    def __call__(self, u):\n",
        "        v = u - self.strike\n",
        "        if(self.type =='C'): \n",
        "            return v if v>0 else 0\n",
        "        else:\n",
        "            return -v if v<0 else 0\n",
        "          \n",
        "          \n",
        "payoffs = [Payoff(s) for s in op_names]\n",
        "def pay(s, objs): return pu.lpSum(pu.lpDot(objs, [p(s) for p in payoffs]))\n",
        "def v(s):   return pay(s, ops) - pay(s, ops_n)\n",
        "\n",
        "cost = pu.lpSum(pu.lpDot(ops, csv_df['price'])) - pu.lpSum(pu.lpDot(ops_n, csv_df['price']))\n"
      ],
      "execution_count": 0,
      "outputs": []
    },
    {
      "metadata": {
        "id": "a_Y46IbKvsiT",
        "colab_type": "code",
        "colab": {
          "base_uri": "https://localhost:8080/",
          "height": 158
        },
        "outputId": "b3799d76-9c5f-469d-fea8-6fab8d2ec874"
      },
      "cell_type": "code",
      "source": [
        "m = pu.LpProblem('Max', sense=pu.LpMaximize)\n",
        "m += cost <= 100\n",
        "m += pu.lpSum(ops_n) <= 20  # 合計売り枚数　２０枚以下\n",
        "\n",
        "for x in range(15000, 23000, 250):   m += v(x) >= 0\n",
        "m += v(19446) - cost\n",
        "\n",
        "m.solve()\n",
        "print(f\" Max = {m.objective.value()}\")\n",
        "\n",
        "ans = []\n",
        "for op in ops:\n",
        "    if op.value() != 0: ans.append([int(op.name[1:6] ) ,op.name, op.value()] )\n",
        "    \n",
        "for op in ops_n:\n",
        "    if op.value() != 0: ans.append([int(op.name[1:6] ) ,op.name[0:6], -op.value()] )\n",
        "    \n",
        "ans.sort(key=itemgetter(0))\n",
        "\n",
        "for x in ans :\n",
        "    print(f\"{x[1]}[{x[2]:.0f}]\")"
      ],
      "execution_count": 9,
      "outputs": [
        {
          "output_type": "stream",
          "text": [
            " Max = 3082.0\n",
            "C19125[12]\n",
            "C19250[-14]\n",
            "P19375[-6]\n",
            "P19750[4]\n",
            "C19875[1]\n",
            "P19875[2]\n",
            "C20125[1]\n"
          ],
          "name": "stdout"
        }
      ]
    },
    {
      "metadata": {
        "id": "vP20kKk_wbrn",
        "colab_type": "code",
        "colab": {}
      },
      "cell_type": "code",
      "source": [
        "# graph\n",
        "import numpy as np\n",
        "%matplotlib inline\n",
        "import matplotlib.pyplot as plt\n",
        "#plt.xkcd()\n",
        "import seaborn as sns\n",
        "\n",
        "sns.set_style('darkgrid')"
      ],
      "execution_count": 0,
      "outputs": []
    },
    {
      "metadata": {
        "id": "rMPqswhmwnj_",
        "colab_type": "code",
        "colab": {}
      },
      "cell_type": "code",
      "source": [
        "def payoff(s):  return sum( Payoff(x[1])(s)*x[2]  for x in ans )"
      ],
      "execution_count": 0,
      "outputs": []
    },
    {
      "metadata": {
        "id": "EEO7Aai4wykI",
        "colab_type": "code",
        "colab": {
          "base_uri": "https://localhost:8080/",
          "height": 265
        },
        "outputId": "5cd86872-99fa-4fb9-fe72-8435f6a09167"
      },
      "cell_type": "code",
      "source": [
        "x = np.arange(19000,20500)\n",
        "plt.plot(x, np.vectorize(payoff)(x), label='sq01w1' )\n",
        "plt.show()"
      ],
      "execution_count": 17,
      "outputs": [
        {
          "output_type": "display_data",
          "data": {
            "image/png": "[encoded data removed]",
            "text/plain": [
              "<matplotlib.figure.Figure at 0x7f409e016748>"
            ]
          },
          "metadata": {
            "tags": []
          }
        }
      ]
    }
  ]
}