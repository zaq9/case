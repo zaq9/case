{
  "nbformat": 4,
  "nbformat_minor": 0,
  "metadata": {
    "colab": {
      "name": "case_2018dec_put.ipynb",
      "version": "0.3.2",
      "provenance": [],
      "collapsed_sections": []
    },
    "kernelspec": {
      "name": "python3",
      "display_name": "Python 3"
    }
  },
  "cells": [
    {
      "metadata": {
        "id": "23U5iMh1XYQp",
        "colab_type": "text"
      },
      "cell_type": "markdown",
      "source": [
        "- [Open with Google Colab](https://colab.research.google.com/github/zaq9/case/blob/master/case_2018dec_put.ipynb\n",
        "\n"
      ]
    },
    {
      "metadata": {
        "id": "ZCYy0RY1TAK7",
        "colab_type": "code",
        "colab": {}
      },
      "cell_type": "code",
      "source": [
        "#Google colabo用パッケージのインストール\n",
        "\n",
        "!pip install -q pulp"
      ],
      "execution_count": 0,
      "outputs": []
    },
    {
      "metadata": {
        "id": "pVcNx6K1TF_W",
        "colab_type": "code",
        "colab": {}
      },
      "cell_type": "code",
      "source": [
        "import pulp as pu\n",
        "\n",
        "op_names = [\"P21000\", \"P20500\", \"P20000\", \"P19500\", \"P19000\",\n",
        "            \"P18500\", \"P18000\", \"P17000\", \"P16000\", \"P15000\", \"P14000\"\n",
        "            ]\n",
        "#2018年１２月PUTの市場データ＋badCase（日経17000、IV80)のデータ\n",
        "\n",
        "data = {\n",
        "    \"dec28\": [1007, 652, 415, 255, 155, 97, 62, 27, 10, 5, 1],\n",
        "    \"dec26\": [1922, 1580, 1170, 850, 605, 415, 290, 145, 70, 34, 21],\n",
        "    \"dec21\": [880, 615, 395, 245, 155, 91, 53, 22, 8, 4, 1],\n",
        "    \"dec18\": [255, 140, 83, 50, 29, 20, 13, 8, 3, 2, 1],\n",
        "    \"dec04\": [93, 62, 44, 30, 23, 20, 16, 12, 8, 6, 4],\n",
        "    \"dec03\": [170, 115, 76, 54, 40, 30, 24, 16, 10, 8, 5],\n",
        "    \"bad_case\": [3125, 2684, 2263, 1869, 1508, 1183, 899, 464, 198, 67, 17],\n",
        "}\n",
        "\n",
        "ops = [pu.LpVariable(s, 0, 200, pu.LpInteger) for s in op_names]\n",
        "ops_n = [pu.LpVariable(s+'_n', 0, 20, pu.LpInteger) for s in op_names]\n",
        "\n",
        "def v(s): \n",
        "    return pu.lpSum(pu.lpDot(ops, data[s])) - pu.lpSum(pu.lpDot(ops_n, data[s]))\n"
      ],
      "execution_count": 0,
      "outputs": []
    },
    {
      "metadata": {
        "id": "8bCu28zuTepT",
        "colab_type": "code",
        "colab": {
          "base_uri": "https://localhost:8080/",
          "height": 122
        },
        "outputId": "f36d609f-495d-4479-9aca-dbea553e1d34"
      },
      "cell_type": "code",
      "source": [
        "m = pu.LpProblem('Max', sense=pu.LpMaximize)\n",
        "cost = v('dec18')\n",
        "m += cost <= 100\n",
        "m += pu.lpSum(ops_n) <= 20  # 制約：合計売り枚数　２０枚以下\n",
        "\n",
        "for s in data.keys(): m += v(s) >= -100\n",
        "\n",
        "m += v('dec26') - cost\n",
        "\n",
        "m.solve()\n",
        "print(f\" Max = {m.objective.value()}\")\n",
        "\n",
        "for op in ops:\n",
        "    if op.value() != 0: print(f\"{op.name}[{op.value() :.0f}]\")\n",
        "for op in ops_n:\n",
        "    if op.value() != 0: print(f\"{op.name[0:6]}[{-op.value() :.0f}]\")\n"
      ],
      "execution_count": 5,
      "outputs": [
        {
          "output_type": "stream",
          "text": [
            " Max = 75208.0\n",
            "P19000[63]\n",
            "P18000[200]\n",
            "P16000[200]\n",
            "P14000[173]\n",
            "P21000[-20]\n"
          ],
          "name": "stdout"
        }
      ]
    }
  ]
}