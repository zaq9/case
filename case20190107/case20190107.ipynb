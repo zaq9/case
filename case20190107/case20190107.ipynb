{
  "nbformat": 4,
  "nbformat_minor": 0,
  "metadata": {
    "colab": {
      "name": "case20190107",
      "version": "0.3.2",
      "provenance": []
    },
    "kernelspec": {
      "name": "python3",
      "display_name": "Python 3"
    }
  },
  "cells": [
    {
      "metadata": {
        "id": "GYBbOKSbFTSx",
        "colab_type": "text"
      },
      "cell_type": "markdown",
      "source": [
        "\n",
        "1月7日（月）の清算値で利益最大になるポジション（日経終値20038）\n",
        "*   制約条件１：コスト100円以内　＜＜　1月4日（金）の清算値時点\n",
        "---\n",
        "*  制約条件２：次のシナリオ全てでネットオプション価値が0以上\n",
        "1.   日経21000円（IV28）\n",
        "2.   日経19750円（IV35）\n",
        "3.   日経19000円（IV40)\n",
        "4.   日経18000円（IV70）\n",
        "---\n",
        "*   制約条件３:売りの総枚数20枚以内　買いの総枚数100枚以内\n",
        "*   利用するオプションは1月限権利価格18000~21000のPUTとCALL\n",
        "\n",
        "\n"
      ]
    },
    {
      "metadata": {
        "id": "kJ5htIeOD0R4",
        "colab_type": "code",
        "colab": {}
      },
      "cell_type": "code",
      "source": [
        "#for google colabo\n",
        "\n",
        "!pip install pulp"
      ],
      "execution_count": 0,
      "outputs": []
    },
    {
      "metadata": {
        "id": "W-QpCSuvEMiF",
        "colab_type": "code",
        "colab": {}
      },
      "cell_type": "code",
      "source": [
        "import pandas as pd\n",
        "import pulp as pu\n",
        "from operator import itemgetter"
      ],
      "execution_count": 0,
      "outputs": []
    },
    {
      "metadata": {
        "id": "yZX3M3w7ENgD",
        "colab_type": "code",
        "colab": {}
      },
      "cell_type": "code",
      "source": [
        "def data(fname):\n",
        "    base = 'https://raw.githubusercontent.com/zaq9/case/master/case20190107/csv_data/' \n",
        "    return pd.read_csv(base+ fname+'.csv',index_col=0)\n",
        "  \n",
        "data_init = data('data20190104')\n",
        "op_names = data_init.index"
      ],
      "execution_count": 0,
      "outputs": []
    },
    {
      "metadata": {
        "id": "No08hcYPEnNh",
        "colab_type": "code",
        "outputId": "90e61e35-febf-495f-8fa3-6f0ea6a825bc",
        "colab": {
          "base_uri": "https://localhost:8080/",
          "height": 225
        }
      },
      "cell_type": "code",
      "source": [
        "data_init.head(5)"
      ],
      "execution_count": 0,
      "outputs": [
        {
          "output_type": "execute_result",
          "data": {
            "text/html": [
              "<div>\n",
              "<style scoped>\n",
              "    .dataframe tbody tr th:only-of-type {\n",
              "        vertical-align: middle;\n",
              "    }\n",
              "\n",
              "    .dataframe tbody tr th {\n",
              "        vertical-align: top;\n",
              "    }\n",
              "\n",
              "    .dataframe thead th {\n",
              "        text-align: right;\n",
              "    }\n",
              "</style>\n",
              "<table border=\"1\" class=\"dataframe\">\n",
              "  <thead>\n",
              "    <tr style=\"text-align: right;\">\n",
              "      <th></th>\n",
              "      <th>PRICE</th>\n",
              "    </tr>\n",
              "    <tr>\n",
              "      <th>NAME</th>\n",
              "      <th></th>\n",
              "    </tr>\n",
              "  </thead>\n",
              "  <tbody>\n",
              "    <tr>\n",
              "      <th>C18000</th>\n",
              "      <td>1540</td>\n",
              "    </tr>\n",
              "    <tr>\n",
              "      <th>C18125</th>\n",
              "      <td>1420</td>\n",
              "    </tr>\n",
              "    <tr>\n",
              "      <th>C18250</th>\n",
              "      <td>1300</td>\n",
              "    </tr>\n",
              "    <tr>\n",
              "      <th>C18375</th>\n",
              "      <td>1190</td>\n",
              "    </tr>\n",
              "    <tr>\n",
              "      <th>C18500</th>\n",
              "      <td>1070</td>\n",
              "    </tr>\n",
              "  </tbody>\n",
              "</table>\n",
              "</div>"
            ],
            "text/plain": [
              "        PRICE\n",
              "NAME         \n",
              "C18000   1540\n",
              "C18125   1420\n",
              "C18250   1300\n",
              "C18375   1190\n",
              "C18500   1070"
            ]
          },
          "metadata": {
            "tags": []
          },
          "execution_count": 8
        }
      ]
    },
    {
      "metadata": {
        "id": "5OZM60qgEu6q",
        "colab_type": "code",
        "outputId": "4f7d3720-831a-4ea0-9197-359c7191a914",
        "colab": {
          "base_uri": "https://localhost:8080/",
          "height": 298
        }
      },
      "cell_type": "code",
      "source": [
        "#変数定義　ops 買い枚数、ops_n 売り枚数　\n",
        "ops = [pu.LpVariable(s, 0, 50, pu.LpInteger) for s in op_names] \n",
        "ops_n = [pu.LpVariable(s+'_n', 0, 20, pu.LpInteger) for s in op_names]\n",
        "\n",
        "def seiyaku(read_df):\n",
        "    return pu.lpSum(pu.lpDot(ops, read_df['PRICE'])) - pu.lpSum(pu.lpDot(ops_n, read_df['PRICE']))\n",
        "  \n",
        "  \n",
        "m = pu.LpProblem('Max', sense=pu.LpMaximize)\n",
        "m += pu.lpSum(ops_n) <= 20  # 合計売り枚数　２０枚以下\n",
        "m += seiyaku(data_init) <= 100\n",
        "m += seiyaku(data('data_nk18000_iv70') ) >=0\n",
        "m += seiyaku(data('data_nk19000_iv40') ) >=0\n",
        "m += seiyaku(data('data_nk19750_iv35') ) >=0\n",
        "m += seiyaku(data('data_nk21000_iv28') ) >=0\n",
        "m += seiyaku(data('data20190107') ) \n",
        "\n",
        "m.solve()\n",
        "print(f\" 最大値 = {m.objective.value()}\")\n",
        "\n",
        "ans = []\n",
        "for op in ops:\n",
        "    if op.value() != 0: ans.append([int(op.name[1:6] ) ,op.name, op.value()] )\n",
        "    \n",
        "for op in ops_n:\n",
        "    if op.value() != 0: ans.append([int(op.name[1:6] ) ,op.name[0:6], -op.value()] )\n",
        "    \n",
        "ans.sort(key=itemgetter(0))\n",
        "\n",
        "for x in ans :\n",
        "    print(f\"{x[1]}[{x[2]:.0f}]\")\n"
      ],
      "execution_count": 0,
      "outputs": [
        {
          "output_type": "stream",
          "text": [
            " 最大値 = 38507.0\n",
            "C18000[-10]\n",
            "P18875[40]\n",
            "P19000[31]\n",
            "C19750[1]\n",
            "C19875[50]\n",
            "C20000[50]\n",
            "C20125[50]\n",
            "C20250[50]\n",
            "C20375[50]\n",
            "C20500[50]\n",
            "C20625[50]\n",
            "C20750[50]\n",
            "C20875[50]\n",
            "C21000[15]\n",
            "P21000[-10]\n"
          ],
          "name": "stdout"
        }
      ]
    }
  ]
}