{
  "nbformat": 4,
  "nbformat_minor": 0,
  "metadata": {
    "colab": {
      "name": "seisan_jan9.ipynb",
      "version": "0.3.2",
      "provenance": []
    },
    "kernelspec": {
      "name": "python3",
      "display_name": "Python 3"
    }
  },
  "cells": [
    {
      "metadata": {
        "id": "N9X6POS6mX-V",
        "colab_type": "code",
        "colab": {}
      },
      "cell_type": "code",
      "source": [
        "from urllib import request\n",
        "import pandas as pd\n",
        "from bs4 import BeautifulSoup\n",
        "\n",
        "\n",
        "\n",
        "def seisan(*args):\n",
        "    \"\"\"\n",
        "    東京証券取引所から最新の清算値データを取得、抽出する\n",
        "    :param args: DataFrame のクエリー文字列 \n",
        "    :return: DataFrame型の清算値データ\n",
        "    \n",
        "    :Examples\n",
        "    --------\n",
        "    #最新の一月限のコール清算値抽出（権利価格18000 <= STRIKE <= 21000）\n",
        "    >>>df = seisan(\n",
        "    \"MATURITY in [201901]\" ,\n",
        "    \"18000 <= STRIKE <= 21000\",\n",
        "    \"TYPE in ['CAL']\"\n",
        "    ) \n",
        "    \"\"\"\n",
        "\n",
        "    \n",
        "    sv = \"https://www.jpx.co.jp/\"\n",
        "    url = request.urlopen(sv + \"markets/derivatives/jnet-derivative/index.html\")\n",
        "    soup = BeautifulSoup(url, \"html.parser\")\n",
        "    csv_path = soup.find(class_=\"component-file\").a.get(\"href\")\n",
        "\n",
        "    print('清算値@', csv_path[-12:-4])\n",
        "    print('  << ', sv + csv_path)\n",
        "    print()\n",
        "\n",
        "    colName = (\"CODE\", \"NAME\", \"TYPE\", \"MATURITY\", \"STRIKE\",\n",
        "               \"PRICE\", \"TPRICE\", \"NK\", \"IV\", \"R\", \"TIME\", \"BASE\")\n",
        "\n",
        "    df = pd.read_csv(sv + csv_path, skiprows=3, encoding=\"SHIFT-JIS\", names=colName) \n",
        "    df = df.query('BASE==\"日経225\"')\n",
        "    for s in args: df = df.query(s)\n",
        "\n",
        "    return df[[\"TYPE\", \"STRIKE\", \"PRICE\", \"MATURITY\",\"IV\",\"NAME\"]]"
      ],
      "execution_count": 0,
      "outputs": []
    },
    {
      "metadata": {
        "id": "imyAoYr8m80K",
        "colab_type": "code",
        "outputId": "ff107acf-4ab8-450a-c11a-e8c2c5d0d89a",
        "colab": {
          "base_uri": "https://localhost:8080/",
          "height": 70
        }
      },
      "cell_type": "code",
      "source": [
        "df = seisan(\n",
        "    \"MATURITY in [201901]\" ,\n",
        "    \"20000 <= STRIKE <= 21000\",\n",
        "   #\"TYPE in ['CAL']\"\n",
        "    )\n",
        "\n",
        "df = df.loc[:,['PRICE']].astype(int).set_index(\n",
        "    df['TYPE'].str[0] + df['STRIKE'].astype(int).astype(str))"
      ],
      "execution_count": 2,
      "outputs": [
        {
          "output_type": "stream",
          "text": [
            "清算値@ 20190109\n",
            "  <<  https://www.jpx.co.jp//markets/derivatives/jnet-derivative/tvdivq00000014l6-att/rb20190109.csv\n",
            "\n"
          ],
          "name": "stdout"
        }
      ]
    },
    {
      "metadata": {
        "id": "iWbXFazntMtl",
        "colab_type": "code",
        "colab": {
          "base_uri": "https://localhost:8080/",
          "height": 580
        },
        "outputId": "110ecb1c-9088-4c8a-f460-dc7e45624d6c"
      },
      "cell_type": "code",
      "source": [
        "df"
      ],
      "execution_count": 3,
      "outputs": [
        {
          "output_type": "execute_result",
          "data": {
            "text/html": [
              "<div>\n",
              "<style scoped>\n",
              "    .dataframe tbody tr th:only-of-type {\n",
              "        vertical-align: middle;\n",
              "    }\n",
              "\n",
              "    .dataframe tbody tr th {\n",
              "        vertical-align: top;\n",
              "    }\n",
              "\n",
              "    .dataframe thead th {\n",
              "        text-align: right;\n",
              "    }\n",
              "</style>\n",
              "<table border=\"1\" class=\"dataframe\">\n",
              "  <thead>\n",
              "    <tr style=\"text-align: right;\">\n",
              "      <th></th>\n",
              "      <th>PRICE</th>\n",
              "    </tr>\n",
              "  </thead>\n",
              "  <tbody>\n",
              "    <tr>\n",
              "      <th>C20000</th>\n",
              "      <td>475</td>\n",
              "    </tr>\n",
              "    <tr>\n",
              "      <th>C20125</th>\n",
              "      <td>370</td>\n",
              "    </tr>\n",
              "    <tr>\n",
              "      <th>C20250</th>\n",
              "      <td>270</td>\n",
              "    </tr>\n",
              "    <tr>\n",
              "      <th>C20375</th>\n",
              "      <td>180</td>\n",
              "    </tr>\n",
              "    <tr>\n",
              "      <th>C20500</th>\n",
              "      <td>105</td>\n",
              "    </tr>\n",
              "    <tr>\n",
              "      <th>C20625</th>\n",
              "      <td>60</td>\n",
              "    </tr>\n",
              "    <tr>\n",
              "      <th>C20750</th>\n",
              "      <td>32</td>\n",
              "    </tr>\n",
              "    <tr>\n",
              "      <th>C20875</th>\n",
              "      <td>15</td>\n",
              "    </tr>\n",
              "    <tr>\n",
              "      <th>C21000</th>\n",
              "      <td>7</td>\n",
              "    </tr>\n",
              "    <tr>\n",
              "      <th>P20000</th>\n",
              "      <td>27</td>\n",
              "    </tr>\n",
              "    <tr>\n",
              "      <th>P20125</th>\n",
              "      <td>43</td>\n",
              "    </tr>\n",
              "    <tr>\n",
              "      <th>P20250</th>\n",
              "      <td>66</td>\n",
              "    </tr>\n",
              "    <tr>\n",
              "      <th>P20375</th>\n",
              "      <td>110</td>\n",
              "    </tr>\n",
              "    <tr>\n",
              "      <th>P20500</th>\n",
              "      <td>165</td>\n",
              "    </tr>\n",
              "    <tr>\n",
              "      <th>P20625</th>\n",
              "      <td>240</td>\n",
              "    </tr>\n",
              "    <tr>\n",
              "      <th>P20750</th>\n",
              "      <td>335</td>\n",
              "    </tr>\n",
              "    <tr>\n",
              "      <th>P20875</th>\n",
              "      <td>445</td>\n",
              "    </tr>\n",
              "    <tr>\n",
              "      <th>P21000</th>\n",
              "      <td>560</td>\n",
              "    </tr>\n",
              "  </tbody>\n",
              "</table>\n",
              "</div>"
            ],
            "text/plain": [
              "        PRICE\n",
              "C20000    475\n",
              "C20125    370\n",
              "C20250    270\n",
              "C20375    180\n",
              "C20500    105\n",
              "C20625     60\n",
              "C20750     32\n",
              "C20875     15\n",
              "C21000      7\n",
              "P20000     27\n",
              "P20125     43\n",
              "P20250     66\n",
              "P20375    110\n",
              "P20500    165\n",
              "P20625    240\n",
              "P20750    335\n",
              "P20875    445\n",
              "P21000    560"
            ]
          },
          "metadata": {
            "tags": []
          },
          "execution_count": 3
        }
      ]
    },
    {
      "metadata": {
        "id": "9SJUOITbtUSC",
        "colab_type": "code",
        "colab": {}
      },
      "cell_type": "code",
      "source": [
        "df.to_csv('data20190109.csv')"
      ],
      "execution_count": 0,
      "outputs": []
    }
  ]
}