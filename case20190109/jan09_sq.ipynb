{
  "nbformat": 4,
  "nbformat_minor": 0,
  "metadata": {
    "colab": {
      "name": "jan09_sq.ipynb",
      "version": "0.3.2",
      "provenance": []
    },
    "kernelspec": {
      "name": "python3",
      "display_name": "Python 3"
    }
  },
  "cells": [
    {
      "metadata": {
        "id": "Chic8GLOt6xE",
        "colab_type": "code",
        "colab": {}
      },
      "cell_type": "code",
      "source": [
        "import pandas as pd"
      ],
      "execution_count": 0,
      "outputs": []
    },
    {
      "metadata": {
        "id": "UxIk5EOLuO5B",
        "colab_type": "code",
        "colab": {
          "base_uri": "https://localhost:8080/",
          "height": 580
        },
        "outputId": "e99827b0-feb5-47ee-f92f-da33604bfa95"
      },
      "cell_type": "code",
      "source": [
        "df = pd.read_csv('data20190109.csv',index_col=0)\n",
        "df"
      ],
      "execution_count": 4,
      "outputs": [
        {
          "output_type": "execute_result",
          "data": {
            "text/html": [
              "<div>\n",
              "<style scoped>\n",
              "    .dataframe tbody tr th:only-of-type {\n",
              "        vertical-align: middle;\n",
              "    }\n",
              "\n",
              "    .dataframe tbody tr th {\n",
              "        vertical-align: top;\n",
              "    }\n",
              "\n",
              "    .dataframe thead th {\n",
              "        text-align: right;\n",
              "    }\n",
              "</style>\n",
              "<table border=\"1\" class=\"dataframe\">\n",
              "  <thead>\n",
              "    <tr style=\"text-align: right;\">\n",
              "      <th></th>\n",
              "      <th>PRICE</th>\n",
              "    </tr>\n",
              "  </thead>\n",
              "  <tbody>\n",
              "    <tr>\n",
              "      <th>C20000</th>\n",
              "      <td>475</td>\n",
              "    </tr>\n",
              "    <tr>\n",
              "      <th>C20125</th>\n",
              "      <td>370</td>\n",
              "    </tr>\n",
              "    <tr>\n",
              "      <th>C20250</th>\n",
              "      <td>270</td>\n",
              "    </tr>\n",
              "    <tr>\n",
              "      <th>C20375</th>\n",
              "      <td>180</td>\n",
              "    </tr>\n",
              "    <tr>\n",
              "      <th>C20500</th>\n",
              "      <td>105</td>\n",
              "    </tr>\n",
              "    <tr>\n",
              "      <th>C20625</th>\n",
              "      <td>60</td>\n",
              "    </tr>\n",
              "    <tr>\n",
              "      <th>C20750</th>\n",
              "      <td>32</td>\n",
              "    </tr>\n",
              "    <tr>\n",
              "      <th>C20875</th>\n",
              "      <td>15</td>\n",
              "    </tr>\n",
              "    <tr>\n",
              "      <th>C21000</th>\n",
              "      <td>7</td>\n",
              "    </tr>\n",
              "    <tr>\n",
              "      <th>P20000</th>\n",
              "      <td>27</td>\n",
              "    </tr>\n",
              "    <tr>\n",
              "      <th>P20125</th>\n",
              "      <td>43</td>\n",
              "    </tr>\n",
              "    <tr>\n",
              "      <th>P20250</th>\n",
              "      <td>66</td>\n",
              "    </tr>\n",
              "    <tr>\n",
              "      <th>P20375</th>\n",
              "      <td>110</td>\n",
              "    </tr>\n",
              "    <tr>\n",
              "      <th>P20500</th>\n",
              "      <td>165</td>\n",
              "    </tr>\n",
              "    <tr>\n",
              "      <th>P20625</th>\n",
              "      <td>240</td>\n",
              "    </tr>\n",
              "    <tr>\n",
              "      <th>P20750</th>\n",
              "      <td>335</td>\n",
              "    </tr>\n",
              "    <tr>\n",
              "      <th>P20875</th>\n",
              "      <td>445</td>\n",
              "    </tr>\n",
              "    <tr>\n",
              "      <th>P21000</th>\n",
              "      <td>560</td>\n",
              "    </tr>\n",
              "  </tbody>\n",
              "</table>\n",
              "</div>"
            ],
            "text/plain": [
              "        PRICE\n",
              "C20000    475\n",
              "C20125    370\n",
              "C20250    270\n",
              "C20375    180\n",
              "C20500    105\n",
              "C20625     60\n",
              "C20750     32\n",
              "C20875     15\n",
              "C21000      7\n",
              "P20000     27\n",
              "P20125     43\n",
              "P20250     66\n",
              "P20375    110\n",
              "P20500    165\n",
              "P20625    240\n",
              "P20750    335\n",
              "P20875    445\n",
              "P21000    560"
            ]
          },
          "metadata": {
            "tags": []
          },
          "execution_count": 4
        }
      ]
    },
    {
      "metadata": {
        "id": "dO_71Xo0ukwX",
        "colab_type": "code",
        "colab": {
          "base_uri": "https://localhost:8080/",
          "height": 193
        },
        "outputId": "b41941e1-21bc-41de-d4ed-3508a2fdbef1"
      },
      "cell_type": "code",
      "source": [
        "! pip install pulp"
      ],
      "execution_count": 5,
      "outputs": [
        {
          "output_type": "stream",
          "text": [
            "Collecting pulp\n",
            "\u001b[?25l  Downloading https://files.pythonhosted.org/packages/91/cd/8ed5d788973f6632cc44d0e95c486646c090c427c90667c901b75e544bc1/PuLP-1.6.9.zip (13.6MB)\n",
            "\u001b[K    100% |████████████████████████████████| 13.6MB 2.5MB/s \n",
            "\u001b[?25hRequirement already satisfied: pyparsing>=2.0.1 in /usr/local/lib/python3.6/dist-packages (from pulp) (2.3.0)\n",
            "Building wheels for collected packages: pulp\n",
            "  Running setup.py bdist_wheel for pulp ... \u001b[?25l-\b \b\\\b \b|\b \b/\b \b-\b \b\\\b \b|\b \bdone\n",
            "\u001b[?25h  Stored in directory: /root/.cache/pip/wheels/3b/f1/f5/f6d0aac56dd154c2593d3fa5e901aa9bc32a51bd8594b4bf8e\n",
            "Successfully built pulp\n",
            "Installing collected packages: pulp\n",
            "Successfully installed pulp-1.6.9\n"
          ],
          "name": "stdout"
        }
      ]
    },
    {
      "metadata": {
        "id": "SOjTGDVEutae",
        "colab_type": "code",
        "colab": {}
      },
      "cell_type": "code",
      "source": [
        "import pulp as pu\n",
        "\n",
        "\n",
        "class Payoff():\n",
        "    def __init__(self, name):\n",
        "        self.type = name[0]\n",
        "        self.strike = int(name[1:])\n",
        "    def __call__(self, u):\n",
        "        v = u - self.strike\n",
        "        if(self.type =='C'): \n",
        "            return v if v>0 else 0\n",
        "        else:\n",
        "            return -v if v<0 else 0"
      ],
      "execution_count": 0,
      "outputs": []
    },
    {
      "metadata": {
        "id": "Qyk9jCkau4yd",
        "colab_type": "code",
        "colab": {
          "base_uri": "https://localhost:8080/",
          "height": 122
        },
        "outputId": "32286751-f635-4405-d812-fcc48ecf45e7"
      },
      "cell_type": "code",
      "source": [
        "v_sq = 20125\n",
        "\n",
        "df[\"buy\"] = df.index.map(lambda x: pu.LpVariable(x, 0, 10, pu.LpInteger))\n",
        "df[\"sell\"] = df.index.map(lambda x: pu.LpVariable(x+'_s', 0, 10, pu.LpInteger))\n",
        "df[\"payoff\"] = df.index.map(lambda x: Payoff(x))\n",
        "\n",
        "\n",
        "def pay(s, objs): return pu.lpSum(pu.lpDot(objs, [p(s) for p in df.payoff]))\n",
        "def v(s):   return pay(s, df['buy']) - pay(s, df['sell'])\n",
        "\n",
        "cost = pu.lpSum(pu.lpDot(df['buy'], df['PRICE'])) -pu.lpSum(pu.lpDot(df['sell'], df['PRICE']))\n",
        "m = pu.LpProblem('Max', sense=pu.LpMaximize)\n",
        "m += v(v_sq ) -cost\n",
        "m += cost <= 100\n",
        "m += pu.lpSum(df['buy']) <= 10  # 合計売り枚数\n",
        "\n",
        "for sq in range(18000,23000,125): m += v(sq) >=0 \n",
        "    \n",
        "m.solve()\n",
        "df['ans'] = df.buy.map(lambda x: x.value()) - df.sell.map(lambda x: x.value())\n",
        "print(f\"最大収益 ={m.objective.value():.0f}(@SQ={v_sq}):コスト={sum(df.ans * df.PRICE):.0f}\")\n",
        "\n",
        "for x in df.query( ' ans != 0 ').itertuples():\n",
        "    print(f\"{x.Index}[{x.ans:.0f}]@{x.PRICE}  >> {x.payoff(v_sq)}\")"
      ],
      "execution_count": 7,
      "outputs": [
        {
          "output_type": "stream",
          "text": [
            "最大収益 =792(@SQ=20125):コスト=83\n",
            "C20000[6]@475  >> 125\n",
            "C20125[-9]@370  >> 0\n",
            "C20375[3]@180  >> 0\n",
            "P20125[-1]@43  >> 0\n",
            "P20250[1]@66  >> 125\n"
          ],
          "name": "stdout"
        }
      ]
    },
    {
      "metadata": {
        "id": "rYTXyhLhvERE",
        "colab_type": "code",
        "colab": {}
      },
      "cell_type": "code",
      "source": [
        ""
      ],
      "execution_count": 0,
      "outputs": []
    }
  ]
}